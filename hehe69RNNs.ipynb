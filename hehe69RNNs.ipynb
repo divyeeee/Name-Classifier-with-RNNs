{
  "metadata": {
    "kernelspec": {
      "language": "python",
      "display_name": "Python 3",
      "name": "python3"
    },
    "language_info": {
      "name": "python",
      "version": "3.10.12",
      "mimetype": "text/x-python",
      "codemirror_mode": {
        "name": "ipython",
        "version": 3
      },
      "pygments_lexer": "ipython3",
      "nbconvert_exporter": "python",
      "file_extension": ".py"
    },
    "kaggle": {
      "accelerator": "none",
      "dataSources": [
        {
          "sourceId": 11214685,
          "sourceType": "datasetVersion",
          "datasetId": 7002958
        }
      ],
      "dockerImageVersionId": 30918,
      "isInternetEnabled": true,
      "language": "python",
      "sourceType": "notebook",
      "isGpuEnabled": false
    },
    "colab": {
      "name": "hehe69RNNs",
      "provenance": [],
      "include_colab_link": true
    }
  },
  "nbformat_minor": 0,
  "nbformat": 4,
  "cells": [
    {
      "cell_type": "markdown",
      "metadata": {
        "id": "view-in-github",
        "colab_type": "text"
      },
      "source": [
        "<a href=\"https://colab.research.google.com/github/divyeeee/Name-Classifier-with-RNNs/blob/main/hehe69RNNs.ipynb\" target=\"_parent\"><img src=\"https://colab.research.google.com/assets/colab-badge.svg\" alt=\"Open In Colab\"/></a>"
      ]
    },
    {
      "source": [
        "# IMPORTANT: RUN THIS CELL IN ORDER TO IMPORT YOUR KAGGLE DATA SOURCES,\n",
        "# THEN FEEL FREE TO DELETE THIS CELL.\n",
        "# NOTE: THIS NOTEBOOK ENVIRONMENT DIFFERS FROM KAGGLE'S PYTHON\n",
        "# ENVIRONMENT SO THERE MAY BE MISSING LIBRARIES USED BY YOUR\n",
        "# NOTEBOOK.\n",
        "import kagglehub\n",
        "divyeeee_names_and_nationality_path = kagglehub.dataset_download('divyeeee/names-and-nationality')\n",
        "\n",
        "print('Data source import complete.')\n"
      ],
      "metadata": {
        "id": "GSv343C3jMK2"
      },
      "cell_type": "code",
      "outputs": [],
      "execution_count": null
    },
    {
      "cell_type": "code",
      "source": [
        "# # This Python 3 environment comes with many helpful analytics libraries installed\n",
        "# # It is defined by the kaggle/python Docker image: https://github.com/kaggle/docker-python\n",
        "# # For example, here's several helpful packages to load\n",
        "\n",
        "# import numpy as np # linear algebra\n",
        "# import pandas as pd # data processing, CSV file I/O (e.g. pd.read_csv)\n",
        "\n",
        "# # Input data files are available in the read-only \"../input/\" directory\n",
        "# # For example, running this (by clicking run or pressing Shift+Enter) will list all files under the input directory\n",
        "\n",
        "# import os\n",
        "# for dirname, _, filenames in os.walk('/kaggle/input'):\n",
        "#     for filename in filenames:\n",
        "#         print(os.path.join(dirname, filename))\n",
        "\n",
        "# # You can write up to 20GB to the current directory (/kaggle/working/) that gets preserved as output when you create a version using \"Save & Run All\"\n",
        "# # You can also write temporary files to /kaggle/temp/, but they won't be saved outside of the current session"
      ],
      "metadata": {
        "_uuid": "8f2839f25d086af736a60e9eeb907d3b93b6e0e5",
        "_cell_guid": "b1076dfc-b9ad-4769-8c92-a6c4dae69d19",
        "trusted": true,
        "id": "AtZKDGqgjMK3"
      },
      "outputs": [],
      "execution_count": null
    },
    {
      "cell_type": "code",
      "source": [
        "# # We will detect from which country the name is\n",
        "# import os\n",
        "# import io\n",
        "# import unicodedata\n",
        "# import string\n",
        "# import glob\n",
        "\n",
        "# import torch\n",
        "# import random\n"
      ],
      "metadata": {
        "trusted": true,
        "execution": {
          "iopub.status.busy": "2025-03-30T16:39:39.869247Z",
          "iopub.execute_input": "2025-03-30T16:39:39.869486Z",
          "iopub.status.idle": "2025-03-30T16:39:44.184258Z",
          "shell.execute_reply.started": "2025-03-30T16:39:39.869463Z",
          "shell.execute_reply": "2025-03-30T16:39:44.183189Z"
        },
        "id": "dqRYoHQ8jMK4"
      },
      "outputs": [],
      "execution_count": null
    },
    {
      "cell_type": "code",
      "source": [
        "# data: https://download.pytorch.org/tutorial/data.zip\n",
        "import io\n",
        "import os\n",
        "import unicodedata\n",
        "import string\n",
        "import glob\n",
        "\n",
        "import torch\n",
        "import random\n",
        "\n",
        "# alphabet small + capital letters + \" .,;'\"\n",
        "ALL_LETTERS = string.ascii_letters + \" .,;'\"\n",
        "N_LETTERS = len(ALL_LETTERS)\n",
        "\n",
        "# Turn a Unicode string to plain ASCII, thanks to https://stackoverflow.com/a/518232/2809427\n",
        "def unicode_to_ascii(s):\n",
        "    return ''.join(\n",
        "        c for c in unicodedata.normalize('NFD', s)\n",
        "        if unicodedata.category(c) != 'Mn'\n",
        "        and c in ALL_LETTERS\n",
        "    )\n",
        "\n",
        "def load_data():\n",
        "    # Build the category_lines dictionary, a list of names per language\n",
        "    category_lines = {}\n",
        "    all_categories = []\n",
        "\n",
        "    def find_files(path):\n",
        "        return glob.glob(path)\n",
        "\n",
        "    # Read a file and split into lines\n",
        "    def read_lines(filename):\n",
        "        lines = io.open(filename, encoding='utf-8').read().strip().split('\\n')\n",
        "        return [unicode_to_ascii(line) for line in lines]\n",
        "\n",
        "    for filename in find_files('/kaggle/input/names-and-nationality/data/names/*.txt'):\n",
        "        category = os.path.splitext(os.path.basename(filename))[0]\n",
        "        all_categories.append(category)\n",
        "\n",
        "        lines = read_lines(filename)\n",
        "        category_lines[category] = lines\n",
        "\n",
        "    return category_lines, all_categories\n",
        "\n",
        "\n",
        "\n",
        "\"\"\"\n",
        "To represent a single letter, we use a “one-hot vector” of\n",
        "size <1 x n_letters>. A one-hot vector is filled with 0s\n",
        "except for a 1 at index of the current letter, e.g. \"b\" = <0 1 0 0 0 ...>.\n",
        "\n",
        "To make a word we join a bunch of those into a\n",
        "2D matrix <line_length x 1 x n_letters>.\n",
        "\n",
        "That extra 1 dimension is because PyTorch assumes\n",
        "everything is in batches - we’re just using a batch size of 1 here.\n",
        "\"\"\"\n",
        "\n",
        "# Find letter index from all_letters, e.g. \"a\" = 0\n",
        "def letter_to_index(letter):\n",
        "    return ALL_LETTERS.find(letter)\n",
        "\n",
        "# Just for demonstration, turn a letter into a <1 x n_letters> Tensor\n",
        "def letter_to_tensor(letter):\n",
        "    tensor = torch.zeros(1, N_LETTERS)\n",
        "    tensor[0][letter_to_index(letter)] = 1\n",
        "    return tensor\n",
        "\n",
        "# Turn a line into a <line_length x 1 x n_letters>,\n",
        "# or an array of one-hot letter vectors\n",
        "def line_to_tensor(line):\n",
        "    tensor = torch.zeros(len(line), 1, N_LETTERS)\n",
        "    for i, letter in enumerate(line):\n",
        "        tensor[i][0][letter_to_index(letter)] = 1\n",
        "    return tensor\n",
        "\n",
        "\n",
        "def random_training_example(category_lines, all_categories):\n",
        "\n",
        "    def random_choice(a):\n",
        "        random_idx = random.randint(0, len(a) - 1)\n",
        "        return a[random_idx]\n",
        "\n",
        "    category = random_choice(all_categories)\n",
        "    line = random_choice(category_lines[category])\n",
        "    category_tensor = torch.tensor([all_categories.index(category)], dtype=torch.long)\n",
        "    line_tensor = line_to_tensor(line)\n",
        "    return category, line, category_tensor, line_tensor\n",
        "\n",
        "\n",
        "\n",
        "print(ALL_LETTERS)\n",
        "print(unicode_to_ascii('Ślusàrski'))\n",
        "\n",
        "category_lines, all_categories = load_data()\n",
        "# print(category_lines)\n",
        "print(all_categories)\n",
        "print(category_lines['Italian'][:5])\n",
        "\n",
        "print(letter_to_tensor('J')) # [1, 57]\n",
        "print(line_to_tensor('Jones').size()) # [5, 1, 57]"
      ],
      "metadata": {
        "trusted": true,
        "execution": {
          "iopub.status.busy": "2025-03-30T16:59:35.017052Z",
          "iopub.execute_input": "2025-03-30T16:59:35.017413Z",
          "iopub.status.idle": "2025-03-30T16:59:35.159518Z",
          "shell.execute_reply.started": "2025-03-30T16:59:35.017383Z",
          "shell.execute_reply": "2025-03-30T16:59:35.158436Z"
        },
        "id": "zU-D6TIOjMK4",
        "outputId": "3dd185a3-71d4-4b96-e41c-a432b36e36df"
      },
      "outputs": [
        {
          "name": "stdout",
          "text": "abcdefghijklmnopqrstuvwxyzABCDEFGHIJKLMNOPQRSTUVWXYZ .,;'\nSlusarski\n['Vietnamese', 'Greek', 'Japanese', 'Dutch', 'Irish', 'Russian', 'Korean', 'Scottish', 'Czech', 'Italian', 'Arabic', 'Portuguese', 'Spanish', 'Chinese', 'French', 'English', 'German', 'Polish']\n['Abandonato', 'Abatangelo', 'Abatantuono', 'Abate', 'Abategiovanni']\ntensor([[0., 0., 0., 0., 0., 0., 0., 0., 0., 0., 0., 0., 0., 0., 0., 0., 0., 0.,\n         0., 0., 0., 0., 0., 0., 0., 0., 0., 0., 0., 0., 0., 0., 0., 0., 0., 1.,\n         0., 0., 0., 0., 0., 0., 0., 0., 0., 0., 0., 0., 0., 0., 0., 0., 0., 0.,\n         0., 0., 0.]])\ntorch.Size([5, 1, 57])\n",
          "output_type": "stream"
        }
      ],
      "execution_count": null
    },
    {
      "cell_type": "code",
      "source": [
        "import torch\n",
        "import torch.nn as nn\n",
        "import matplotlib.pyplot as plt\n",
        "\n",
        "# from utils import ALL_LETTERS, N_LETTERS\n",
        "# from utils import load_data, letter_to_tensor, line_to_tensor, random_training_example\n",
        "\n",
        "\n",
        "class RNN(nn.Module):\n",
        "    # implement RNN from scratch rather than using nn.RNN\n",
        "    def __init__(self, input_size, hidden_size, output_size):\n",
        "        super(RNN, self).__init__()\n",
        "\n",
        "        self.hidden_size = hidden_size\n",
        "        self.i2h = nn.Linear(input_size + hidden_size, hidden_size)\n",
        "        self.i2o = nn.Linear(input_size + hidden_size, output_size)\n",
        "        self.softmax = nn.LogSoftmax(dim=1)\n",
        "\n",
        "    def forward(self, input_tensor, hidden_tensor):\n",
        "        combined = torch.cat((input_tensor, hidden_tensor), 1)\n",
        "\n",
        "        hidden = self.i2h(combined)\n",
        "        output = self.i2o(combined)\n",
        "        output = self.softmax(output)\n",
        "        return output, hidden\n",
        "\n",
        "    def init_hidden(self):\n",
        "        return torch.zeros(1, self.hidden_size)\n",
        "\n",
        "category_lines, all_categories = load_data()\n",
        "n_categories = len(all_categories)\n",
        "\n",
        "n_hidden = 128\n",
        "rnn = RNN(N_LETTERS, n_hidden, n_categories)\n",
        "\n",
        "# one step\n",
        "input_tensor = letter_to_tensor('A')\n",
        "hidden_tensor = rnn.init_hidden()\n",
        "\n",
        "output, next_hidden = rnn(input_tensor, hidden_tensor)\n",
        "#print(output.size())\n",
        "#print(next_hidden.size())\n",
        "\n",
        "# whole sequence/name\n",
        "input_tensor = line_to_tensor('Albert')\n",
        "hidden_tensor = rnn.init_hidden()\n",
        "\n",
        "output, next_hidden = rnn(input_tensor[0], hidden_tensor)\n",
        "#print(output.size())\n",
        "#print(next_hidden.size())\n",
        "\n",
        "#\n",
        "def category_from_output(output):\n",
        "    category_idx = torch.argmax(output).item()\n",
        "    return all_categories[category_idx]\n",
        "\n",
        "print(category_from_output(output))\n",
        "\n",
        "criterion = nn.NLLLoss()\n",
        "learning_rate = 0.005\n",
        "optimizer = torch.optim.SGD(rnn.parameters(), lr=learning_rate)\n",
        "\n",
        "def train(line_tensor, category_tensor):\n",
        "    hidden = rnn.init_hidden()\n",
        "\n",
        "    for i in range(line_tensor.size()[0]):\n",
        "        output, hidden = rnn(line_tensor[i], hidden)\n",
        "\n",
        "    loss = criterion(output, category_tensor)\n",
        "\n",
        "    optimizer.zero_grad()\n",
        "    loss.backward()\n",
        "    optimizer.step()\n",
        "\n",
        "    return output, loss.item()\n",
        "\n",
        "current_loss = 0\n",
        "all_losses = []\n",
        "plot_steps, print_steps = 1000, 5000\n",
        "n_iters = 100000\n",
        "for i in range(n_iters):\n",
        "    category, line, category_tensor, line_tensor = random_training_example(category_lines, all_categories)\n",
        "\n",
        "    output, loss = train(line_tensor, category_tensor)\n",
        "    current_loss += loss\n",
        "\n",
        "    if (i+1) % plot_steps == 0:\n",
        "        all_losses.append(current_loss / plot_steps)\n",
        "        current_loss = 0\n",
        "\n",
        "    if (i+1) % print_steps == 0:\n",
        "        guess = category_from_output(output)\n",
        "        correct = \"CORRECT\" if guess == category else f\"WRONG ({category})\"\n",
        "        print(f\"{i+1} {(i+1)/n_iters*100} {loss:.4f} {line} / {guess} {correct}\")\n",
        "\n",
        "\n",
        "plt.figure()\n",
        "plt.plot(all_losses)\n",
        "plt.show()\n",
        "\n",
        "def predict(input_line):\n",
        "    print(f\"\\n> {input_line}\")\n",
        "    with torch.no_grad():\n",
        "        line_tensor = line_to_tensor(input_line)\n",
        "\n",
        "        hidden = rnn.init_hidden()\n",
        "\n",
        "        for i in range(line_tensor.size()[0]):\n",
        "            output, hidden = rnn(line_tensor[i], hidden)\n",
        "\n",
        "        guess = category_from_output(output)\n",
        "        print(guess)\n",
        "\n",
        "\n",
        "while True:\n",
        "    sentence = input(\"Input:\")\n",
        "    if sentence == \"quit\":\n",
        "        break\n",
        "\n",
        "    predict(sentence)\n",
        ""
      ],
      "metadata": {
        "trusted": true,
        "execution": {
          "iopub.status.busy": "2025-03-30T17:07:12.222139Z",
          "iopub.execute_input": "2025-03-30T17:07:12.222472Z",
          "execution_failed": "2025-03-31T05:01:34.395Z"
        },
        "id": "hm2erXz0jMK5",
        "outputId": "87947e2c-9e54-4b05-fba4-e1e001fcf68c"
      },
      "outputs": [
        {
          "name": "stdout",
          "text": "Arabic\n5000 5.0 2.1608 Abbatelli / Polish WRONG (Italian)\n10000 10.0 2.8945 Mustafa / Japanese WRONG (Arabic)\n15000 15.0 3.2435 Masuzoe / Scottish WRONG (Japanese)\n20000 20.0 2.4052 Marquerink / Italian WRONG (German)\n25000 25.0 2.6323 Daalen / Irish WRONG (Dutch)\n30000 30.0 1.5177 Samaha / Japanese WRONG (Arabic)\n35000 35.0 2.1529 Machado / Japanese WRONG (Portuguese)\n40000 40.0 0.9064 Benitez / Spanish CORRECT\n45000 45.0 0.6721 Yun / Chinese CORRECT\n50000 50.0 0.6943 Hong / Chinese CORRECT\n55000 55.00000000000001 0.7989 Ganim / Arabic CORRECT\n60000 60.0 0.3822 Malouf / Arabic CORRECT\n65000 65.0 0.0357 Bouloukos / Greek CORRECT\n70000 70.0 1.1713 Granger / French CORRECT\n75000 75.0 0.3488 Talkovsky / Russian CORRECT\n80000 80.0 0.8653 Castro / Portuguese CORRECT\n85000 85.0 1.0778 Molyavin / Russian CORRECT\n90000 90.0 0.8855 Palmeiro / Portuguese CORRECT\n95000 95.0 0.6389 Vela / Spanish CORRECT\n100000 100.0 1.9422 Davenport / Dutch WRONG (English)\n",
          "output_type": "stream"
        },
        {
          "output_type": "display_data",
          "data": {
            "text/plain": "<Figure size 640x480 with 1 Axes>",
            "image/png": "[encoded data removed]"
          },
          "metadata": {}
        },
        {
          "output_type": "stream",
          "name": "stdin",
          "text": "Input: arabic\n"
        },
        {
          "name": "stdout",
          "text": "\n> arabic\nArabic\n",
          "output_type": "stream"
        },
        {
          "output_type": "stream",
          "name": "stdin",
          "text": "Input: divye\n"
        },
        {
          "name": "stdout",
          "text": "\n> divye\nFrench\n",
          "output_type": "stream"
        },
        {
          "output_type": "stream",
          "name": "stdin",
          "text": "Input: kartikey\n"
        },
        {
          "name": "stdout",
          "text": "\n> kartikey\nRussian\n",
          "output_type": "stream"
        },
        {
          "output_type": "stream",
          "name": "stdin",
          "text": "Input: sarthak\n"
        },
        {
          "name": "stdout",
          "text": "\n> sarthak\nPolish\n",
          "output_type": "stream"
        },
        {
          "output_type": "stream",
          "name": "stdin",
          "text": "Input: andrew\n"
        },
        {
          "name": "stdout",
          "text": "\n> andrew\nSpanish\n",
          "output_type": "stream"
        },
        {
          "output_type": "stream",
          "name": "stdin",
          "text": "Input: sakura\n"
        },
        {
          "name": "stdout",
          "text": "\n> sakura\nJapanese\n",
          "output_type": "stream"
        },
        {
          "output_type": "stream",
          "name": "stdin",
          "text": "Input: mizu\n"
        },
        {
          "name": "stdout",
          "text": "\n> mizu\nPortuguese\n",
          "output_type": "stream"
        },
        {
          "output_type": "stream",
          "name": "stdin",
          "text": "Input: mizumoto\n"
        },
        {
          "name": "stdout",
          "text": "\n> mizumoto\nJapanese\n",
          "output_type": "stream"
        },
        {
          "output_type": "stream",
          "name": "stdin",
          "text": "Input: vladmir\n"
        },
        {
          "name": "stdout",
          "text": "\n> vladmir\nCzech\n",
          "output_type": "stream"
        },
        {
          "output_type": "stream",
          "name": "stdin",
          "text": "Input: mahmoud\n"
        },
        {
          "name": "stdout",
          "text": "\n> mahmoud\nArabic\n",
          "output_type": "stream"
        },
        {
          "output_type": "stream",
          "name": "stdin",
          "text": "Input: cheng pao\n"
        },
        {
          "name": "stdout",
          "text": "\n> cheng pao\nSpanish\n",
          "output_type": "stream"
        },
        {
          "output_type": "stream",
          "name": "stdin",
          "text": "Input: cheng\n"
        },
        {
          "name": "stdout",
          "text": "\n> cheng\nChinese\n",
          "output_type": "stream"
        },
        {
          "output_type": "stream",
          "name": "stdin",
          "text": "Input: liu\n"
        },
        {
          "name": "stdout",
          "text": "\n> liu\nScottish\n",
          "output_type": "stream"
        },
        {
          "output_type": "stream",
          "name": "stdin",
          "text": "Input: liuhan\n"
        },
        {
          "name": "stdout",
          "text": "\n> liuhan\nIrish\n",
          "output_type": "stream"
        },
        {
          "output_type": "stream",
          "name": "stdin",
          "text": "Input: seong\n"
        },
        {
          "name": "stdout",
          "text": "\n> seong\nGerman\n",
          "output_type": "stream"
        },
        {
          "output_type": "stream",
          "name": "stdin",
          "text": "Input: han-seong\n"
        },
        {
          "name": "stdout",
          "text": "\n> han-seong\nIrish\n",
          "output_type": "stream"
        },
        {
          "output_type": "stream",
          "name": "stdin",
          "text": "Input: han-seong\n"
        },
        {
          "name": "stdout",
          "text": "\n> han-seong\nIrish\n",
          "output_type": "stream"
        },
        {
          "output_type": "stream",
          "name": "stdin",
          "text": "Input: miguel\n"
        },
        {
          "name": "stdout",
          "text": "\n> miguel\nEnglish\n",
          "output_type": "stream"
        },
        {
          "output_type": "stream",
          "name": "stdin",
          "text": "Input: michael\n"
        },
        {
          "name": "stdout",
          "text": "\n> michael\nFrench\n",
          "output_type": "stream"
        },
        {
          "output_type": "stream",
          "name": "stdin",
          "text": "Input: mikkel\n"
        },
        {
          "name": "stdout",
          "text": "\n> mikkel\nDutch\n",
          "output_type": "stream"
        },
        {
          "output_type": "stream",
          "name": "stdin",
          "text": "Input: yun\n"
        },
        {
          "name": "stdout",
          "text": "\n> yun\nKorean\n",
          "output_type": "stream"
        }
      ],
      "execution_count": null
    }
  ]
}